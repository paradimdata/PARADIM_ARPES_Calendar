{
 "cells": [
  {
   "cell_type": "code",
   "execution_count": 7,
   "metadata": {},
   "outputs": [
    {
     "name": "stdout",
     "output_type": "stream",
     "text": [
      ".\n"
     ]
    }
   ],
   "source": [
    "import os\n",
    "test_file = \"ARPES Raw Data/NbO/Al2O3_0001/JF24020/JF24020_0001.pxt\"\n",
    "folder = test_file + '/../../../../..'\n",
    "path = os.path.normpath(folder)\n",
    "directory_name = os.path.basename(path.rstrip('/\\\\'))\n",
    "print(directory_name)"
   ]
  },
  {
   "cell_type": "code",
   "execution_count": 8,
   "metadata": {},
   "outputs": [
    {
     "name": "stdout",
     "output_type": "stream",
     "text": [
      "['.']\n"
     ]
    }
   ],
   "source": [
    "name_array = directory_name.split()\n",
    "print(name_array)\n",
    "for element in name_array:\n",
    "    if element.isdigit():\n",
    "        print(element)"
   ]
  },
  {
   "cell_type": "code",
   "execution_count": 17,
   "metadata": {},
   "outputs": [
    {
     "name": "stdout",
     "output_type": "stream",
     "text": [
      "[('test folder/PARADIM 290 - Falson - NbO/ARPES Raw Data/NbO/Nb_STO_111/JF24041', ['JF24041_0020.pxt', 'JF24041_0008.pxt', 'JF24041_0009.pxt', 'JF24041_0021.pxt', 'JF24041_0019.pxt', 'JF24041_0018.pxt', 'JF24041_0002.pxt', 'JF24041_0016.pxt', 'JF24041_0017.pxt', 'JF24041_0003.pxt', 'JF24041_0015.pxt', 'JF24041_0001.pxt', 'JF24041_0014.pxt', 'JF24041_0010.pxt', 'JF24041_0004.pxt', 'JF24041_0005.pxt', 'JF24041_0011.pxt', 'JF24041_0007.pxt', 'JF24041_0013.pxt', 'JF24041_0012.pxt', 'JF24041_0006.pxt']), ('test folder/PARADIM 290 - Falson - NbO/ARPES Raw Data/NbO/Al2O3 _0001/JF24020', ['JF24020_0018.pxt', 'JF24020_0019.pxt', 'JF24020_0009.pxt', 'JF24020_0008.pxt', 'JF24020_0011.pxt', 'JF24020_0005.pxt', 'JF24020_0004.pxt', 'JF24020_0010.pxt', 'JF24020_0006.pxt', 'JF24020_0012.pxt', 'JF24020_0013.pxt', 'JF24020_0007.pxt', 'JF24020_0003.pxt', 'JF24020_0017.pxt', 'JF24020_0016.pxt', 'JF24020_0002.pxt', 'JF24020_0014.pxt', 'JF24020_0001.pxt', 'JF24020_0015.pxt']), ('test folder/PARADIM 000 - Test - NbO /ARPES Raw Data/NbO/Nb_STO_111/JF24041', ['JF24041_0020.pxt', 'JF24041_0008.pxt', 'JF24041_0009.pxt', 'JF24041_0021.pxt', 'JF24041_0019.pxt', 'JF24041_0018.pxt', 'JF24041_0002.pxt', 'JF24041_0016.pxt', 'JF24041_0017.pxt', 'JF24041_0003.pxt', 'JF24041_0015.pxt', 'JF24041_0001.pxt', 'JF24041_0014.pxt', 'JF24041_0010.pxt', 'JF24041_0004.pxt', 'JF24041_0005.pxt', 'JF24041_0011.pxt', 'JF24041_0007.pxt', 'JF24041_0013.pxt', 'JF24041_0012.pxt', 'JF24041_0006.pxt']), ('test folder/PARADIM 000 - Test - NbO /ARPES Raw Data/NbO/Al2O3 _0001/JF24020', ['JF24020_0018.pxt', 'JF24020_0019.pxt', 'JF24020_0009.pxt', 'JF24020_0008.pxt', 'JF24020_0011.pxt', 'JF24020_0005.pxt', 'JF24020_0004.pxt', 'JF24020_0010.pxt', 'JF24020_0006.pxt', 'JF24020_0012.pxt', 'JF24020_0013.pxt', 'JF24020_0007.pxt', 'JF24020_0003.pxt', 'JF24020_0017.pxt', 'JF24020_0016.pxt', 'JF24020_0002.pxt', 'JF24020_0014.pxt', 'JF24020_0001.pxt', 'JF24020_0015.pxt'])]\n",
      "('test folder/PARADIM 290 - Falson - NbO/ARPES Raw Data/NbO/Nb_STO_111/JF24041', ['JF24041_0020.pxt', 'JF24041_0008.pxt', 'JF24041_0009.pxt', 'JF24041_0021.pxt', 'JF24041_0019.pxt', 'JF24041_0018.pxt', 'JF24041_0002.pxt', 'JF24041_0016.pxt', 'JF24041_0017.pxt', 'JF24041_0003.pxt', 'JF24041_0015.pxt', 'JF24041_0001.pxt', 'JF24041_0014.pxt', 'JF24041_0010.pxt', 'JF24041_0004.pxt', 'JF24041_0005.pxt', 'JF24041_0011.pxt', 'JF24041_0007.pxt', 'JF24041_0013.pxt', 'JF24041_0012.pxt', 'JF24041_0006.pxt'])\n"
     ]
    }
   ],
   "source": [
    "filetypes = ['.pxt']\n",
    "dir = 'test folder'\n",
    "filtered_files = []\n",
    "\n",
    "for current_folder, subfolders, files in os.walk(dir):\n",
    "    matching_files = [f for f in files if any(f.endswith(filetype) for filetype in filetypes)]\n",
    "    if matching_files:  # Only add non-empty lists\n",
    "        filtered_files.append((current_folder, matching_files))\n",
    "print(filtered_files)\n",
    "print(filtered_files[0])"
   ]
  }
 ],
 "metadata": {
  "kernelspec": {
   "display_name": "base",
   "language": "python",
   "name": "python3"
  },
  "language_info": {
   "codemirror_mode": {
    "name": "ipython",
    "version": 3
   },
   "file_extension": ".py",
   "mimetype": "text/x-python",
   "name": "python",
   "nbconvert_exporter": "python",
   "pygments_lexer": "ipython3",
   "version": "3.11.5"
  }
 },
 "nbformat": 4,
 "nbformat_minor": 2
}
