{
 "cells": [
  {
   "cell_type": "code",
   "execution_count": 3,
   "metadata": {},
   "outputs": [
    {
     "name": "stdout",
     "output_type": "stream",
     "text": [
      "PARADIM 290 - Falson - NbO\n"
     ]
    }
   ],
   "source": [
    "import os\n",
    "test_file = \"PARADIM 290 - Falson - NbO/ARPES Raw Data/NbO/Al2O3_0001/JF24020/JF24020_0001.pxt\"\n",
    "folder = test_file + '/../../../../..'\n",
    "path = os.path.normpath(folder)\n",
    "directory_name = os.path.basename(path.rstrip('/\\\\'))\n",
    "print(directory_name)"
   ]
  },
  {
   "cell_type": "code",
   "execution_count": 6,
   "metadata": {},
   "outputs": [
    {
     "name": "stdout",
     "output_type": "stream",
     "text": [
      "['PARADIM', '290', '-', 'Falson', '-', 'NbO2']\n",
      "290\n"
     ]
    }
   ],
   "source": [
    "name_array = directory_name.split()\n",
    "print(name_array)\n",
    "for element in name_array:\n",
    "    if element.isdigit():\n",
    "        print(element)"
   ]
  }
 ],
 "metadata": {
  "kernelspec": {
   "display_name": "base",
   "language": "python",
   "name": "python3"
  },
  "language_info": {
   "codemirror_mode": {
    "name": "ipython",
    "version": 3
   },
   "file_extension": ".py",
   "mimetype": "text/x-python",
   "name": "python",
   "nbconvert_exporter": "python",
   "pygments_lexer": "ipython3",
   "version": "3.11.5"
  }
 },
 "nbformat": 4,
 "nbformat_minor": 2
}
