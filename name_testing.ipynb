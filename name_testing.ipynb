{
 "cells": [
  {
   "cell_type": "code",
   "execution_count": 5,
   "metadata": {},
   "outputs": [
    {
     "name": "stdout",
     "output_type": "stream",
     "text": [
      "Event created: https://www.google.com/calendar/event?eid=ZDk3bDFnZmh1Z3RjODJhM2Jna2xoaWI1MW8gNzI2MjAzOGUyNjM0ZGViODhmYWU2YzQ5MDBkZjVjYzQyZGYxZjA2ZjA2NTIyZjNlM2ZkNDNhOGJjN2U0YzEwYUBn\n",
      "Event created: https://www.google.com/calendar/event?eid=Y2g0M2gxMmU0M2phaTBxbGdkMzZuOTVsbWcgNzI2MjAzOGUyNjM0ZGViODhmYWU2YzQ5MDBkZjVjYzQyZGYxZjA2ZjA2NTIyZjNlM2ZkNDNhOGJjN2U0YzEwYUBn\n"
     ]
    }
   ],
   "source": [
    "!python ARPES_Calendar.py --wavenote 'PARADIM 290 - Falson - NbO/ARPES Raw Data/NbO/Nb_STO_111/JF24041/JF24041_0001.pxt'"
   ]
  },
  {
   "cell_type": "code",
   "execution_count": 1,
   "metadata": {},
   "outputs": [
    {
     "name": "stdout",
     "output_type": "stream",
     "text": [
      "Event created: https://www.google.com/calendar/event?eid=Ym4yNTlubmQ2MDk4NXBkYjJqN2sxbTVwYTAgNzI2MjAzOGUyNjM0ZGViODhmYWU2YzQ5MDBkZjVjYzQyZGYxZjA2ZjA2NTIyZjNlM2ZkNDNhOGJjN2U0YzEwYUBn\n",
      "Event created: https://www.google.com/calendar/event?eid=MWR2a2hva2UyYWNkdTQ2bjkxcjY0OWx2b28gNzI2MjAzOGUyNjM0ZGViODhmYWU2YzQ5MDBkZjVjYzQyZGYxZjA2ZjA2NTIyZjNlM2ZkNDNhOGJjN2U0YzEwYUBn\n",
      "Event created: https://www.google.com/calendar/event?eid=MWtkNGZhOTNkdDB0MDFlNThpbzJwN2gxZW8gNzI2MjAzOGUyNjM0ZGViODhmYWU2YzQ5MDBkZjVjYzQyZGYxZjA2ZjA2NTIyZjNlM2ZkNDNhOGJjN2U0YzEwYUBn\n"
     ]
    }
   ],
   "source": [
    "!python ARPES_Calendar.py --folder 'PARADIM 290 - Falson - NbO'"
   ]
  }
 ],
 "metadata": {
  "kernelspec": {
   "display_name": "base",
   "language": "python",
   "name": "python3"
  },
  "language_info": {
   "codemirror_mode": {
    "name": "ipython",
    "version": 3
   },
   "file_extension": ".py",
   "mimetype": "text/x-python",
   "name": "python",
   "nbconvert_exporter": "python",
   "pygments_lexer": "ipython3",
   "version": "3.12.2"
  }
 },
 "nbformat": 4,
 "nbformat_minor": 2
}
