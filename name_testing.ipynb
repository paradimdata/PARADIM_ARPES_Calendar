{
 "cells": [
  {
   "cell_type": "code",
   "execution_count": 7,
   "metadata": {},
   "outputs": [
    {
     "name": "stdout",
     "output_type": "stream",
     "text": [
      ".\n"
     ]
    }
   ],
   "source": [
    "import os\n",
    "test_file = \"ARPES Raw Data/NbO/Al2O3_0001/JF24020/JF24020_0001.pxt\"\n",
    "folder = test_file + '/../../../../..'\n",
    "path = os.path.normpath(folder)\n",
    "directory_name = os.path.basename(path.rstrip('/\\\\'))\n",
    "print(directory_name)"
   ]
  },
  {
   "cell_type": "code",
   "execution_count": 8,
   "metadata": {},
   "outputs": [
    {
     "name": "stdout",
     "output_type": "stream",
     "text": [
      "['.']\n"
     ]
    }
   ],
   "source": [
    "name_array = directory_name.split()\n",
    "print(name_array)\n",
    "for element in name_array:\n",
    "    if element.isdigit():\n",
    "        print(element)"
   ]
  },
  {
   "cell_type": "code",
   "execution_count": 20,
   "metadata": {},
   "outputs": [
    {
     "name": "stdout",
     "output_type": "stream",
     "text": [
      "[('test folder/PARADIM 000 - Test - NbO /ARPES Raw Data/NbO/Nb_STO_111/JF24041', ['test folder/PARADIM 000 - Test - NbO /ARPES Raw Data/NbO/Nb_STO_111/JF24041/JF24041_0020.pxt', 'test folder/PARADIM 000 - Test - NbO /ARPES Raw Data/NbO/Nb_STO_111/JF24041/JF24041_0008.pxt', 'test folder/PARADIM 000 - Test - NbO /ARPES Raw Data/NbO/Nb_STO_111/JF24041/JF24041_0009.pxt', 'test folder/PARADIM 000 - Test - NbO /ARPES Raw Data/NbO/Nb_STO_111/JF24041/JF24041_0021.pxt', 'test folder/PARADIM 000 - Test - NbO /ARPES Raw Data/NbO/Nb_STO_111/JF24041/JF24041_0019.pxt', 'test folder/PARADIM 000 - Test - NbO /ARPES Raw Data/NbO/Nb_STO_111/JF24041/JF24041_0018.pxt', 'test folder/PARADIM 000 - Test - NbO /ARPES Raw Data/NbO/Nb_STO_111/JF24041/JF24041_0002.pxt', 'test folder/PARADIM 000 - Test - NbO /ARPES Raw Data/NbO/Nb_STO_111/JF24041/JF24041_0016.pxt', 'test folder/PARADIM 000 - Test - NbO /ARPES Raw Data/NbO/Nb_STO_111/JF24041/JF24041_0017.pxt', 'test folder/PARADIM 000 - Test - NbO /ARPES Raw Data/NbO/Nb_STO_111/JF24041/JF24041_0003.pxt', 'test folder/PARADIM 000 - Test - NbO /ARPES Raw Data/NbO/Nb_STO_111/JF24041/JF24041_0015.pxt', 'test folder/PARADIM 000 - Test - NbO /ARPES Raw Data/NbO/Nb_STO_111/JF24041/JF24041_0001.pxt', 'test folder/PARADIM 000 - Test - NbO /ARPES Raw Data/NbO/Nb_STO_111/JF24041/JF24041_0014.pxt', 'test folder/PARADIM 000 - Test - NbO /ARPES Raw Data/NbO/Nb_STO_111/JF24041/JF24041_0010.pxt', 'test folder/PARADIM 000 - Test - NbO /ARPES Raw Data/NbO/Nb_STO_111/JF24041/JF24041_0004.pxt', 'test folder/PARADIM 000 - Test - NbO /ARPES Raw Data/NbO/Nb_STO_111/JF24041/JF24041_0005.pxt', 'test folder/PARADIM 000 - Test - NbO /ARPES Raw Data/NbO/Nb_STO_111/JF24041/JF24041_0011.pxt', 'test folder/PARADIM 000 - Test - NbO /ARPES Raw Data/NbO/Nb_STO_111/JF24041/JF24041_0007.pxt', 'test folder/PARADIM 000 - Test - NbO /ARPES Raw Data/NbO/Nb_STO_111/JF24041/JF24041_0013.pxt', 'test folder/PARADIM 000 - Test - NbO /ARPES Raw Data/NbO/Nb_STO_111/JF24041/JF24041_0012.pxt', 'test folder/PARADIM 000 - Test - NbO /ARPES Raw Data/NbO/Nb_STO_111/JF24041/JF24041_0006.pxt']), ('test folder/PARADIM 000 - Test - NbO /ARPES Raw Data/NbO/Al2O3 _0001/JF24020', ['test folder/PARADIM 000 - Test - NbO /ARPES Raw Data/NbO/Al2O3 _0001/JF24020/JF24020_0018.pxt', 'test folder/PARADIM 000 - Test - NbO /ARPES Raw Data/NbO/Al2O3 _0001/JF24020/JF24020_0019.pxt', 'test folder/PARADIM 000 - Test - NbO /ARPES Raw Data/NbO/Al2O3 _0001/JF24020/JF24020_0009.pxt', 'test folder/PARADIM 000 - Test - NbO /ARPES Raw Data/NbO/Al2O3 _0001/JF24020/JF24020_0008.pxt', 'test folder/PARADIM 000 - Test - NbO /ARPES Raw Data/NbO/Al2O3 _0001/JF24020/JF24020_0011.pxt', 'test folder/PARADIM 000 - Test - NbO /ARPES Raw Data/NbO/Al2O3 _0001/JF24020/JF24020_0005.pxt', 'test folder/PARADIM 000 - Test - NbO /ARPES Raw Data/NbO/Al2O3 _0001/JF24020/JF24020_0004.pxt', 'test folder/PARADIM 000 - Test - NbO /ARPES Raw Data/NbO/Al2O3 _0001/JF24020/JF24020_0010.pxt', 'test folder/PARADIM 000 - Test - NbO /ARPES Raw Data/NbO/Al2O3 _0001/JF24020/JF24020_0006.pxt', 'test folder/PARADIM 000 - Test - NbO /ARPES Raw Data/NbO/Al2O3 _0001/JF24020/JF24020_0012.pxt', 'test folder/PARADIM 000 - Test - NbO /ARPES Raw Data/NbO/Al2O3 _0001/JF24020/JF24020_0013.pxt', 'test folder/PARADIM 000 - Test - NbO /ARPES Raw Data/NbO/Al2O3 _0001/JF24020/JF24020_0007.pxt', 'test folder/PARADIM 000 - Test - NbO /ARPES Raw Data/NbO/Al2O3 _0001/JF24020/JF24020_0003.pxt', 'test folder/PARADIM 000 - Test - NbO /ARPES Raw Data/NbO/Al2O3 _0001/JF24020/JF24020_0017.pxt', 'test folder/PARADIM 000 - Test - NbO /ARPES Raw Data/NbO/Al2O3 _0001/JF24020/JF24020_0016.pxt', 'test folder/PARADIM 000 - Test - NbO /ARPES Raw Data/NbO/Al2O3 _0001/JF24020/JF24020_0002.pxt', 'test folder/PARADIM 000 - Test - NbO /ARPES Raw Data/NbO/Al2O3 _0001/JF24020/JF24020_0014.pxt', 'test folder/PARADIM 000 - Test - NbO /ARPES Raw Data/NbO/Al2O3 _0001/JF24020/JF24020_0001.pxt', 'test folder/PARADIM 000 - Test - NbO /ARPES Raw Data/NbO/Al2O3 _0001/JF24020/JF24020_0015.pxt']), ('test folder/PARADIM 001 - Falson - NbO/ARPES Raw Data/NbO/Nb_STO_111/JF24041', ['test folder/PARADIM 001 - Falson - NbO/ARPES Raw Data/NbO/Nb_STO_111/JF24041/JF24041_0020.pxt', 'test folder/PARADIM 001 - Falson - NbO/ARPES Raw Data/NbO/Nb_STO_111/JF24041/JF24041_0008.pxt', 'test folder/PARADIM 001 - Falson - NbO/ARPES Raw Data/NbO/Nb_STO_111/JF24041/JF24041_0009.pxt', 'test folder/PARADIM 001 - Falson - NbO/ARPES Raw Data/NbO/Nb_STO_111/JF24041/JF24041_0021.pxt', 'test folder/PARADIM 001 - Falson - NbO/ARPES Raw Data/NbO/Nb_STO_111/JF24041/JF24041_0019.pxt', 'test folder/PARADIM 001 - Falson - NbO/ARPES Raw Data/NbO/Nb_STO_111/JF24041/JF24041_0018.pxt', 'test folder/PARADIM 001 - Falson - NbO/ARPES Raw Data/NbO/Nb_STO_111/JF24041/JF24041_0002.pxt', 'test folder/PARADIM 001 - Falson - NbO/ARPES Raw Data/NbO/Nb_STO_111/JF24041/JF24041_0016.pxt', 'test folder/PARADIM 001 - Falson - NbO/ARPES Raw Data/NbO/Nb_STO_111/JF24041/JF24041_0017.pxt', 'test folder/PARADIM 001 - Falson - NbO/ARPES Raw Data/NbO/Nb_STO_111/JF24041/JF24041_0003.pxt', 'test folder/PARADIM 001 - Falson - NbO/ARPES Raw Data/NbO/Nb_STO_111/JF24041/JF24041_0015.pxt', 'test folder/PARADIM 001 - Falson - NbO/ARPES Raw Data/NbO/Nb_STO_111/JF24041/JF24041_0001.pxt', 'test folder/PARADIM 001 - Falson - NbO/ARPES Raw Data/NbO/Nb_STO_111/JF24041/JF24041_0014.pxt', 'test folder/PARADIM 001 - Falson - NbO/ARPES Raw Data/NbO/Nb_STO_111/JF24041/JF24041_0010.pxt', 'test folder/PARADIM 001 - Falson - NbO/ARPES Raw Data/NbO/Nb_STO_111/JF24041/JF24041_0004.pxt', 'test folder/PARADIM 001 - Falson - NbO/ARPES Raw Data/NbO/Nb_STO_111/JF24041/JF24041_0005.pxt', 'test folder/PARADIM 001 - Falson - NbO/ARPES Raw Data/NbO/Nb_STO_111/JF24041/JF24041_0011.pxt', 'test folder/PARADIM 001 - Falson - NbO/ARPES Raw Data/NbO/Nb_STO_111/JF24041/JF24041_0007.pxt', 'test folder/PARADIM 001 - Falson - NbO/ARPES Raw Data/NbO/Nb_STO_111/JF24041/JF24041_0013.pxt', 'test folder/PARADIM 001 - Falson - NbO/ARPES Raw Data/NbO/Nb_STO_111/JF24041/JF24041_0012.pxt', 'test folder/PARADIM 001 - Falson - NbO/ARPES Raw Data/NbO/Nb_STO_111/JF24041/JF24041_0006.pxt']), ('test folder/PARADIM 001 - Falson - NbO/ARPES Raw Data/NbO/Al2O3 _0001/JF24020', ['test folder/PARADIM 001 - Falson - NbO/ARPES Raw Data/NbO/Al2O3 _0001/JF24020/JF24020_0018.pxt', 'test folder/PARADIM 001 - Falson - NbO/ARPES Raw Data/NbO/Al2O3 _0001/JF24020/JF24020_0019.pxt', 'test folder/PARADIM 001 - Falson - NbO/ARPES Raw Data/NbO/Al2O3 _0001/JF24020/JF24020_0009.pxt', 'test folder/PARADIM 001 - Falson - NbO/ARPES Raw Data/NbO/Al2O3 _0001/JF24020/JF24020_0008.pxt', 'test folder/PARADIM 001 - Falson - NbO/ARPES Raw Data/NbO/Al2O3 _0001/JF24020/JF24020_0011.pxt', 'test folder/PARADIM 001 - Falson - NbO/ARPES Raw Data/NbO/Al2O3 _0001/JF24020/JF24020_0005.pxt', 'test folder/PARADIM 001 - Falson - NbO/ARPES Raw Data/NbO/Al2O3 _0001/JF24020/JF24020_0004.pxt', 'test folder/PARADIM 001 - Falson - NbO/ARPES Raw Data/NbO/Al2O3 _0001/JF24020/JF24020_0010.pxt', 'test folder/PARADIM 001 - Falson - NbO/ARPES Raw Data/NbO/Al2O3 _0001/JF24020/JF24020_0006.pxt', 'test folder/PARADIM 001 - Falson - NbO/ARPES Raw Data/NbO/Al2O3 _0001/JF24020/JF24020_0012.pxt', 'test folder/PARADIM 001 - Falson - NbO/ARPES Raw Data/NbO/Al2O3 _0001/JF24020/JF24020_0013.pxt', 'test folder/PARADIM 001 - Falson - NbO/ARPES Raw Data/NbO/Al2O3 _0001/JF24020/JF24020_0007.pxt', 'test folder/PARADIM 001 - Falson - NbO/ARPES Raw Data/NbO/Al2O3 _0001/JF24020/JF24020_0003.pxt', 'test folder/PARADIM 001 - Falson - NbO/ARPES Raw Data/NbO/Al2O3 _0001/JF24020/JF24020_0017.pxt', 'test folder/PARADIM 001 - Falson - NbO/ARPES Raw Data/NbO/Al2O3 _0001/JF24020/JF24020_0016.pxt', 'test folder/PARADIM 001 - Falson - NbO/ARPES Raw Data/NbO/Al2O3 _0001/JF24020/JF24020_0002.pxt', 'test folder/PARADIM 001 - Falson - NbO/ARPES Raw Data/NbO/Al2O3 _0001/JF24020/JF24020_0014.pxt', 'test folder/PARADIM 001 - Falson - NbO/ARPES Raw Data/NbO/Al2O3 _0001/JF24020/JF24020_0001.pxt', 'test folder/PARADIM 001 - Falson - NbO/ARPES Raw Data/NbO/Al2O3 _0001/JF24020/JF24020_0015.pxt'])]\n",
      "test folder/PARADIM 000 - Test - NbO /ARPES Raw Data/NbO/Nb_STO_111/JF24041/JF24041_0020.pxt\n"
     ]
    }
   ],
   "source": [
    "filetypes = ['.pxt']\n",
    "dir = 'test folder'  # Replace with the actual directory path\n",
    "filtered_files = []\n",
    "\n",
    "for current_folder, subfolders, files in os.walk(dir):\n",
    "    # Get the full paths of the matching files\n",
    "    matching_files = [os.path.join(current_folder, f) for f in files if any(f.endswith(filetype) for filetype in filetypes)]\n",
    "    if matching_files:  # Only add non-empty lists\n",
    "        filtered_files.append((current_folder, matching_files))\n",
    "print(filtered_files)\n",
    "print(filtered_files[0][1][0])"
   ]
  },
  {
   "cell_type": "code",
   "execution_count": 34,
   "metadata": {},
   "outputs": [
    {
     "name": "stdout",
     "output_type": "stream",
     "text": [
      "/Users/petercauchy/Documents/GitHub/PARADIM_ARPES_Calendar/test folder/PARADIM 290 - Falson - NbO/ARPES Raw Data/NbO/Al2O3_0001/JF24020\n",
      "['JF24020_0001.pxt', 'JF24020_0002.pxt', 'JF24020_0003.pxt', 'JF24020_0004.pxt', 'JF24020_0005.pxt', 'JF24020_0006.pxt', 'JF24020_0007.pxt', 'JF24020_0008.pxt', 'JF24020_0009.pxt', 'JF24020_0010.pxt', 'JF24020_0011.pxt', 'JF24020_0012.pxt', 'JF24020_0013.pxt', 'JF24020_0014.pxt', 'JF24020_0015.pxt', 'JF24020_0016.pxt', 'JF24020_0017.pxt', 'JF24020_0018.pxt', 'JF24020_0019.pxt']\n",
      "JF24020_0001.pxt\n",
      "JF24020_0002.pxt\n",
      "JF24020_0003.pxt\n",
      "JF24020_0004.pxt\n",
      "JF24020_0005.pxt\n",
      "JF24020_0006.pxt\n",
      "JF24020_0007.pxt\n",
      "JF24020_0008.pxt\n",
      "JF24020_0009.pxt\n",
      "JF24020_0010.pxt\n",
      "JF24020_0011.pxt\n",
      "JF24020_0012.pxt\n",
      "JF24020_0013.pxt\n",
      "JF24020_0014.pxt\n",
      "JF24020_0015.pxt\n",
      "JF24020_0016.pxt\n",
      "JF24020_0017.pxt\n",
      "JF24020_0018.pxt\n",
      "JF24020_0019.pxt\n"
     ]
    },
    {
     "data": {
      "text/plain": [
       "('Evan (#290) ARPES',\n",
       " 'DA30L_VLeed-11150_12207was used over this time period',\n",
       " '2024-07-13T17:15:54-04:00',\n",
       " '2024-07-15T17:04:26-04:00')"
      ]
     },
     "execution_count": 34,
     "metadata": {},
     "output_type": "execute_result"
    }
   ],
   "source": [
    "get_calendar_values('/Users/petercauchy/Documents/GitHub/PARADIM_ARPES_Calendar/test folder/PARADIM 290 - Falson - NbO/ARPES Raw Data/NbO/Al2O3_0001/JF24020/JF24020_0018.pxt')"
   ]
  },
  {
   "cell_type": "code",
   "execution_count": 33,
   "metadata": {},
   "outputs": [],
   "source": [
    "import datetime\n",
    "import traceback\n",
    "import os.path\n",
    "import htmdec_formats\n",
    "import os\n",
    "import time\n",
    "import pytz\n",
    "import argparse\n",
    "import re\n",
    "\n",
    "def month_to_num(month_abbr):\n",
    "    # Dictionary mapping month abbreviations to their corresponding numbers\n",
    "    month_map = {\n",
    "        \"Jan\": '01',\n",
    "        \"Feb\": '02',\n",
    "        \"Mar\": '03',\n",
    "        \"Apr\": '04',\n",
    "        \"May\": '05',\n",
    "        \"Jun\": '06',\n",
    "        \"Jul\": '07',\n",
    "        \"Aug\": '08',\n",
    "        \"Sep\": '09',\n",
    "        \"Oct\": '10',\n",
    "        \"Nov\": '11',\n",
    "        \"Dec\": '12'\n",
    "    }\n",
    "    month_abbr = month_abbr.capitalize()\n",
    "    return month_map.get(month_abbr, None)\n",
    "\n",
    "def get_iso8601(year, month, day, hour, minute, second, timezone_str):\n",
    "    timezone = pytz.timezone(timezone_str)\n",
    "    dt = datetime.datetime(year, month, day, hour, minute, second)\n",
    "    localized_dt = timezone.localize(dt)\n",
    "    return localized_dt.isoformat()\n",
    "\n",
    "def get_calendar_values(wavenote_file):\n",
    "    count = 0\n",
    "    full_path = os.path.abspath(wavenote_file)\n",
    "    file_folder = os.listdir(os.path.dirname(full_path))\n",
    "\n",
    "    for name in file_folder:\n",
    "        if not '.pxt' in name:\n",
    "            file_folder.remove(name)\n",
    "    sorted_files = sorted(\n",
    "    file_folder,\n",
    "    key=lambda x: float(re.findall(r\"[-+]?\\d*\\.?\\d+(?:[eE][-+]?\\d+)?\", x)[-1]) if re.findall(r\"[-+]?\\d*\\.?\\d+(?:[eE][-+]?\\d+)?\", x) else 0\n",
    "    ) \n",
    "\n",
    "    length = len(sorted_files)\n",
    "    for file in sorted_files:\n",
    "        if count == 0:\n",
    "            dataset = htmdec_formats.ARPESDataset.from_file(os.path.dirname(full_path) + '/' + file)\n",
    "            lines = dataset._metadata.split(\"\\n\")\n",
    "            folder = wavenote_file + '/../../../../..'\n",
    "            path = os.path.normpath(folder)\n",
    "            directory_name = os.path.basename(path.rstrip('/\\\\'))\n",
    "            name_array = directory_name.split()\n",
    "\n",
    "            for element in name_array:\n",
    "                if element.isdigit():\n",
    "                    project_number = element\n",
    "            start = [lines[28].split('=')[1].replace('\\n',''),lines[29].split('=')[1].replace('\\n','')]\n",
    "            if project_number:\n",
    "                username = lines[25].split('=')[1] + ' (#' + str(project_number) + ') ARPES'\n",
    "            else:\n",
    "                username = lines[25].split('=')[1] + ' (#) ARPES'\n",
    "            instrument = lines[23].split('=')[1] + 'was used over this time period'\n",
    "\n",
    "        elif count == length - 1:\n",
    "            end_file = os.path.join(os.path.dirname(wavenote_file), file)\n",
    "            ti_m = os.path.getmtime(end_file)\n",
    "            m_ti = time.ctime(ti_m) \n",
    "            if ':' in m_ti.split(' ')[3]:\n",
    "                end_time = m_ti.split(' ')[3]\n",
    "            else:\n",
    "                end_time = m_ti.split(' ')[4]\n",
    "            if ':' in m_ti.split(' ')[3]:\n",
    "                end_date = m_ti.split(' ')[4] + '-' + month_to_num(m_ti.split(' ')[1]) + '-' + m_ti.split(' ')[2]\n",
    "            else:\n",
    "                end_date = m_ti.split(' ')[5] + '-' + month_to_num(m_ti.split(' ')[1]) + '-' + m_ti.split(' ')[3]\n",
    "            end = [end_date, end_time]\n",
    "        count += 1\n",
    "    \n",
    "    final_start = get_iso8601(int(start[0].split('-')[0]), int(start[0].split('-')[1]), int(start[0].split('-')[2]), \n",
    "                                int(start[1].split(':')[0]), int(start[1].split(':')[1]), int(start[1].split(':')[2]), 'America/New_York')\n",
    "    final_end = get_iso8601(int(end[0].split('-')[0]), int(end[0].split('-')[1]), int(end[0].split('-')[2]), \n",
    "                            int(end[1].split(':')[0]), int(end[1].split(':')[1]), int(end[1].split(':')[2]), 'America/New_York')\n",
    "    \n",
    "    return username, instrument, final_start, final_end"
   ]
  },
  {
   "cell_type": "code",
   "execution_count": 45,
   "metadata": {},
   "outputs": [],
   "source": [
    "import datetime\n",
    "from dateutil import parser\n",
    "\n",
    "\n",
    "def parse_datetime(dt_str):\n",
    "    try:\n",
    "        # Use dateutil.parser for robust ISO 8601 parsing\n",
    "        dt = parser.isoparse(dt_str)\n",
    "    except (ValueError, ImportError):\n",
    "        # Handle basic date format (e.g., 'YYYY-MM-DD') if `isoparse` fails\n",
    "        try:\n",
    "            dt = datetime.strptime(dt_str, '%Y-%m-%d')\n",
    "        except ValueError:\n",
    "            raise ValueError(f\"Unsupported datetime format: {dt_str}\")\n",
    "    \n",
    "    # Normalize to offset-naive if timezone info is present\n",
    "    return dt.replace(tzinfo=None)\n",
    "\n",
    "def duplicate_check(data, time1,time2):\n",
    "    # Parse the times to check\n",
    "    time1_dt = parse_datetime(time1)\n",
    "    time2_dt = parse_datetime(time2)\n",
    "\n",
    "    # Variable to track if both times are in the same event\n",
    "    common_event = None\n",
    "\n",
    "    # Check each event\n",
    "    for event in data:\n",
    "        # Parse start and end times\n",
    "        start_dt = parse_datetime(event['start'])\n",
    "        end_dt = parse_datetime(event['end'])\n",
    "\n",
    "        # Check if both times fall within the same event\n",
    "        if start_dt <= time1_dt <= end_dt and start_dt <= time2_dt <= end_dt:\n",
    "            common_event = event\n",
    "            break\n",
    "\n",
    "    # Output the result\n",
    "    if common_event:\n",
    "        return False\n",
    "    else:\n",
    "        return True\n"
   ]
  },
  {
   "cell_type": "code",
   "execution_count": 48,
   "metadata": {},
   "outputs": [
    {
     "data": {
      "text/plain": [
       "True"
      ]
     },
     "execution_count": 48,
     "metadata": {},
     "output_type": "execute_result"
    }
   ],
   "source": [
    "time1 = '2024-07-13T17:15:54-04:00'\n",
    "time2 = '2024-07-15T17:04:26-04:00'\n",
    "data = [{'summary': 'Evan (#290) ARPES', 'start': '2024-07-13T17:15:54-04:00', 'end': '2024-07-15T17:04:25-04:00'}, {'summary': 'Evan (#290) ARPES', 'start': '2024-07-13T17:15:54-04:00', 'end': '2024-07-15T17:04:26-04:00'}, {'summary': 'Evan (#290) ARPES', 'start': '2024-07-15T18:01:18-04:00', 'end': '2024-08-02T17:08:22-04:00'}, {'summary': 'Caretta (#309) ARPES', 'start': '2024-08-14', 'end': '2024-08-19'}, {'summary': 'Molybdates (Prop #289) ARPES', 'start': '2024-09-10', 'end': '2024-09-15'}, {'summary': 'Prosper (#303) ARPES', 'start': '2024-09-15', 'end': '2024-09-22'}]\n",
    "duplicate_check(data, time1, time2)\n"
   ]
  }
 ],
 "metadata": {
  "kernelspec": {
   "display_name": "base",
   "language": "python",
   "name": "python3"
  },
  "language_info": {
   "codemirror_mode": {
    "name": "ipython",
    "version": 3
   },
   "file_extension": ".py",
   "mimetype": "text/x-python",
   "name": "python",
   "nbconvert_exporter": "python",
   "pygments_lexer": "ipython3",
   "version": "3.12.2"
  }
 },
 "nbformat": 4,
 "nbformat_minor": 2
}
